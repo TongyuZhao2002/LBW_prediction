{
 "cells": [
  {
   "cell_type": "markdown",
   "metadata": {},
   "source": [
    "### Import required packages"
   ]
  },
  {
   "cell_type": "code",
   "execution_count": null,
   "metadata": {},
   "outputs": [],
   "source": [
    "import pandas as pd\n",
    "import numpy as np\n",
    "from sklearn.impute import SimpleImputer\n",
    "from sklearn.preprocessing import StandardScaler, OneHotEncoder\n",
    "from pyod.models.knn import KNN\n",
    "from sklearn.model_selection import train_test_split, RandomizedSearchCV, GridSearchCV\n",
    "from sklearn.metrics import roc_auc_score, roc_curve, auc\n",
    "from sklearn.linear_model import LogisticRegression, Lasso\n",
    "from sklearn.tree import DecisionTreeClassifier\n",
    "import seaborn as sns\n",
    "import matplotlib.pyplot as plt\n",
    "from sklearn.svm import SVC\n",
    "from sklearn.neighbors import KNeighborsClassifier\n",
    "from sklearn.ensemble import RandomForestClassifier, AdaBoostClassifier, GradientBoostingClassifier, BaggingClassifier\n",
    "from math import sqrt\n",
    "from sklearn.feature_selection import SelectFromModel\n",
    "from imblearn.over_sampling import SMOTE\n",
    "from sklearn.datasets import make_classification\n"
   ]
  },
  {
   "cell_type": "code",
   "execution_count": null,
   "metadata": {},
   "outputs": [],
   "source": [
    "# Data from Ethiopia\n",
    "Births_Ethiopia = pd.read_sas('Births_Ethiopia.SAS7BDAT')\n",
    "print(Births_Ethiopia.shape)\n",
    "\n",
    "# 'M19': Birth_Weight: Birth weight in kilograms (3 decimals) [Original Response variable]\n",
    "print(\"The number of valid samples in the dataset is \" + str(len(Births_Ethiopia['M19'].dropna())))\n",
    "                                                            \n",
    "Births_Ethiopia.head()"
   ]
  },
  {
   "cell_type": "markdown",
   "metadata": {},
   "source": [
    "## Original 17 features\n",
    "'V026': Residence: Type of place of residence (Large city/ Small city/ Town/ Countryside)\n",
    "\n",
    "'V106': Education: Educational level (no education/primary/secondary or higher)\n",
    "\n",
    "'H42': Iron: Taking iron pills, sprinkles or syrup\n",
    "\n",
    "'V190': Wealth: Wealth index combined (Poorest/poorer/middle/richer/richest)\n",
    "\n",
    "'V445': BMI: Body mass index (numerical)\n",
    "\n",
    "'V447A': Age_W: Women's age in years (numerical)\n",
    "\n",
    "'V457': Anemia: Anemia level (severe/ moderate /mild/not anemic)\n",
    "\n",
    "'V463A': Smoking: Smokes cigarettes (no/yes)\n",
    "\n",
    "'V481': Insurance: Covered by health insurance (no/yes)\n",
    "\n",
    "'V717': Occupation: Respondent's occupation\n",
    "\n",
    "'V131': Ethnicity: Ethnicity (Amahara/Oromo/Tigrie/Somali/Guragie/Others\n",
    "\n",
    "'V501': Marital: Current marital status\n",
    "\n",
    "'V130': Religion: Religion(orthodox/muslim/protestant/others)\n",
    "\n",
    "'B4': Gender: Sex of child (male/female)\n",
    "\n",
    "'B0': Twin: The child is a twin (single/multiple)\n",
    "\n",
    "'M14': Visits: Number of antenatal visits during pregnancy (numerical)\n",
    "\n",
    "'M17': Delivery_Caesarean: Delivery by caesarean section (no/yes)"
   ]
  },
  {
   "cell_type": "code",
   "execution_count": null,
   "metadata": {},
   "outputs": [],
   "source": [
    "Births_Ethiopia_df = Births_Ethiopia[['M19','V026','V106','H42','V190','V445','V447A','V457','V463A','V481','V717','V131',\n",
    "                  'V501','V130','B4','B0','M14','M17']]\n",
    "Births_Ethiopia_df.columns = ['Birth_Weight','Residence','Education','Iron','Wealth','BMI','Age_W','Anemia',\n",
    "                     'Smoking','Insurance','Occupation','Ethnicity','Marital','Religion','Gender',\n",
    "                    'Twin','Visits','Delivery_Caesarean']\n",
    "Births_Ethiopia_df = Births_Ethiopia_df.dropna(subset=['Birth_Weight'])\n",
    "Births_Ethiopia_df = Births_Ethiopia_df.reset_index()\n",
    "Births_Ethiopia_df = Births_Ethiopia_df.iloc[:,1:]\n",
    "print(Births_Ethiopia_df.shape)\n",
    "Births_Ethiopia_df.head()"
   ]
  },
  {
   "cell_type": "markdown",
   "metadata": {},
   "source": [
    "## Data Pre-processing"
   ]
  },
  {
   "cell_type": "code",
   "execution_count": null,
   "metadata": {},
   "outputs": [],
   "source": [
    "# Categorical variables: one-hot encoding\n",
    "enc = OneHotEncoder(sparse=False)\n",
    "encoded_array = enc.fit_transform(Births_Ethiopia_df[['Residence', 'Education', 'Iron', 'Wealth', 'Anemia', 'Smoking', 'Insurance', 'Occupation', 'Ethnicity', 'Marital', 'Religion', 'Gender', 'Twin', 'Delivery_Caesarean']])\n",
    "\n",
    "encoded_cols = enc.get_feature_names_out(['Residence', 'Education', 'Iron', 'Wealth', 'Anemia', 'Smoking', 'Insurance', 'Occupation', 'Ethnicity', 'Marital', 'Religion', 'Gender', 'Twin', 'Delivery_Caesarean'])\n",
    "encoded_df = pd.DataFrame(encoded_array, columns=encoded_cols)\n",
    "\n",
    "# Drop the original columns that were encoded & concatenate with the other columns\n",
    "Births_Ethiopia_encoded = pd.concat([Births_Ethiopia_df.drop(['Residence', 'Education', 'Iron', 'Wealth', 'Anemia', 'Smoking', 'Insurance', 'Occupation', 'Ethnicity', 'Marital', 'Religion', 'Gender', 'Twin', 'Delivery_Caesarean'], axis=1), encoded_df], axis=1)\n",
    "\n",
    "# Drop the encoded columns showing NA or missing value\n",
    "Births_Ethiopia_encoded = Births_Ethiopia_encoded.drop(['Residence_nan', 'Iron_8.0', 'Iron_nan', 'Anemia_nan', 'Occupation_96.0', 'Ethnicity_6.0', 'Ethnicity_7.0', 'Ethnicity_8.0',\n",
    "       'Ethnicity_9.0', 'Ethnicity_10.0', 'Ethnicity_11.0', 'Ethnicity_12.0',\n",
    "       'Ethnicity_13.0', 'Ethnicity_14.0', 'Ethnicity_15.0', 'Ethnicity_16.0',\n",
    "       'Ethnicity_17.0', 'Ethnicity_18.0', 'Ethnicity_19.0', 'Ethnicity_20.0',\n",
    "       'Ethnicity_22.0', 'Ethnicity_24.0', 'Ethnicity_28.0', 'Ethnicity_33.0',\n",
    "       'Ethnicity_34.0', 'Ethnicity_35.0', 'Ethnicity_36.0', 'Ethnicity_38.0',\n",
    "       'Ethnicity_42.0', 'Ethnicity_43.0', 'Ethnicity_44.0', 'Ethnicity_47.0',\n",
    "       'Ethnicity_53.0', 'Ethnicity_57.0', 'Ethnicity_59.0', 'Ethnicity_64.0',\n",
    "       'Ethnicity_71.0', 'Ethnicity_72.0', 'Ethnicity_73.0', 'Ethnicity_75.0',\n",
    "       'Ethnicity_76.0', 'Ethnicity_85.0', 'Ethnicity_93.0', 'Ethnicity_96.0',\n",
    "       'Ethnicity_99.0', 'Religion_96.0'], axis=1)\n",
    "# Births_Ethiopia_encoded.head()"
   ]
  },
  {
   "cell_type": "code",
   "execution_count": null,
   "metadata": {},
   "outputs": [],
   "source": [
    "# Numerical variables: imputation\n",
    "def addlabels(x, y):\n",
    "    for i in range(len(x)):\n",
    "        plt.text(i,y[i],round(y[i],2))\n",
    "        \n",
    "missing_values = Births_Ethiopia_encoded.isnull().sum() / len(Births_Ethiopia_encoded)\n",
    "missing_values = missing_values[missing_values > 0]\n",
    "missing_values.sort_values(inplace=True)\n",
    "missing_values = missing_values.to_frame()\n",
    "missing_values.columns = ['Proportion of NaN']\n",
    "missing_values.index.names = ['Name']\n",
    "missing_values['Name'] = missing_values.index\n",
    "\n",
    "sns.set(style=\"whitegrid\", color_codes=True)\n",
    "sns.barplot(x = 'Name', y = 'Proportion of NaN', data=missing_values)\n",
    "plt.xticks(rotation = 45)\n",
    "addlabels(missing_values['Name'], y=missing_values['Proportion of NaN'])\n",
    "plt.show()"
   ]
  },
  {
   "cell_type": "code",
   "execution_count": null,
   "metadata": {},
   "outputs": [],
   "source": [
    "# Impute with mean simpleImputer\n",
    "imputer_sim = SimpleImputer(strategy = \"mean\")\n",
    "imputed_df_sim = imputer_sim.fit_transform(Births_Ethiopia_encoded)\n",
    "Births_Ethiopia_imputed = pd.DataFrame(imputed_df_sim)\n",
    "Births_Ethiopia_imputed.columns = Births_Ethiopia_encoded.columns\n",
    "# Births_Ethiopia_imputed.head()"
   ]
  },
  {
   "cell_type": "code",
   "execution_count": null,
   "metadata": {},
   "outputs": [],
   "source": [
    "# Response variable engineering\n",
    "Births_Ethiopia_imputed[\"Is_LBW\"] = Births_Ethiopia_imputed[\"Birth_Weight\"]<2500\n",
    "Births_Ethiopia_res = Births_Ethiopia_imputed.drop(['Birth_Weight'], axis=1)\n",
    "# Births_Ethiopia_res.head()\n"
   ]
  },
  {
   "cell_type": "code",
   "execution_count": null,
   "metadata": {},
   "outputs": [],
   "source": [
    "Y_Ethiopia = Births_Ethiopia_res[\"Is_LBW\"]\n",
    "Feature_Ethiopia = Births_Ethiopia_res.drop([\"Is_LBW\"], axis=1)\n"
   ]
  },
  {
   "cell_type": "code",
   "execution_count": null,
   "metadata": {},
   "outputs": [],
   "source": [
    "# Lasso for feature selection\n",
    "lasso = LogisticRegression(penalty='l1', solver='liblinear', C=1.0, random_state=42)\n",
    "lasso.fit(Feature_Ethiopia, Y_Ethiopia)\n",
    "\n",
    "coefficients = lasso.coef_[0]\n",
    "# Identify columns that were dropped (coefficients are zero)\n",
    "selected_columns = Feature_Ethiopia.columns[coefficients != 0]\n",
    "# print(\"Selected columns:\", selected_columns)\n",
    "\n",
    "# Select features based on the weights after Lasso regularization\n",
    "feature_model = SelectFromModel(lasso, prefit=True)\n",
    "\n",
    "# Transform the dataset to only include the selected features\n",
    "Feature_new = feature_model.transform(Feature_Ethiopia)\n",
    "\n",
    "# Update Feature df\n",
    "Feature_Ethiopia = pd.DataFrame(Feature_new, columns = ['BMI', 'Age_W', 'Visits', 'Education_0.0', 'Education_2.0',\n",
    "       'Education_3.0', 'Iron_0.0', 'Iron_1.0', 'Wealth_1.0', 'Wealth_2.0',\n",
    "       'Wealth_4.0', 'Wealth_5.0', 'Anemia_3.0', 'Anemia_4.0', 'Smoking_0.0',\n",
    "       'Insurance_0.0', 'Occupation_1.0', 'Occupation_2.0', 'Occupation_5.0',\n",
    "       'Occupation_8.0', 'Occupation_9.0', 'Ethnicity_1.0', 'Ethnicity_2.0',\n",
    "       'Ethnicity_3.0', 'Ethnicity_4.0', 'Ethnicity_5.0', 'Marital_0.0',\n",
    "       'Marital_1.0', 'Marital_2.0', 'Marital_4.0', 'Marital_5.0',\n",
    "       'Religion_1.0', 'Religion_4.0', 'Gender_1.0', 'Twin_0.0', 'Twin_1.0',\n",
    "       'Delivery_Caesarean_1.0'])\n",
    "# Feature_Ethiopia.head()"
   ]
  },
  {
   "cell_type": "code",
   "execution_count": null,
   "metadata": {},
   "outputs": [],
   "source": [
    "# Whole Ethiopia df after data pre-processing\n",
    "Ethiopia_final = pd.concat([Feature_Ethiopia, Y_Ethiopia], 1)\n",
    "Ethiopia_final.head()"
   ]
  },
  {
   "cell_type": "markdown",
   "metadata": {},
   "source": [
    "## Model construction and Evaluation (baseline models)"
   ]
  },
  {
   "cell_type": "markdown",
   "metadata": {},
   "source": [
    "### Data split"
   ]
  },
  {
   "cell_type": "code",
   "execution_count": null,
   "metadata": {},
   "outputs": [],
   "source": [
    "# Split training and testing set\n",
    "X_train_Ethiopia, X_test_Ethiopia, Y_train_Ethiopia, Y_test_Ethiopia = train_test_split(Feature_Ethiopia, Y_Ethiopia, test_size=0.25, random_state=42)\n"
   ]
  },
  {
   "cell_type": "code",
   "execution_count": null,
   "metadata": {},
   "outputs": [],
   "source": [
    "# Scale X if needed\n",
    "scaler = StandardScaler()\n",
    "X_train_Ethiopia_scaled = scaler.fit_transform(X_train_Ethiopia)\n",
    "X_test_Ethiopia_scaled = scaler.transform(X_test_Ethiopia)"
   ]
  },
  {
   "cell_type": "code",
   "execution_count": null,
   "metadata": {},
   "outputs": [],
   "source": [
    "# Get confidence interval for auc score\n",
    "def roc_auc_ci(y_true, y_score, AUC, positive=True):\n",
    "    N1 = sum(y_true)\n",
    "    N2 = len(y_true) - N1\n",
    "    Q1 = AUC / (2 - AUC)\n",
    "    Q2 = 2*AUC**2 / (1 + AUC)\n",
    "    SE_AUC = sqrt((AUC*(1 - AUC) + (N1 - 1)*(Q1 - AUC**2) + (N2 - 1)*(Q2 - AUC**2)) / (N1*N2))\n",
    "    lower = AUC - 1.96*SE_AUC\n",
    "    upper = AUC + 1.96*SE_AUC\n",
    "    if lower < 0:\n",
    "        lower = 0\n",
    "    if upper > 1:\n",
    "        upper = 1\n",
    "    return (lower, upper)"
   ]
  },
  {
   "cell_type": "markdown",
   "metadata": {},
   "source": [
    "### Logistic regression"
   ]
  },
  {
   "cell_type": "code",
   "execution_count": null,
   "metadata": {},
   "outputs": [],
   "source": [
    "lr_model_Ethiopia = LogisticRegression(solver='liblinear', random_state=42)\n",
    "lr_model_Ethiopia.fit(X_train_Ethiopia, Y_train_Ethiopia)\n",
    "lr_predict_Ethiopia = lr_model_Ethiopia.predict(X_test_Ethiopia)\n",
    "lr_score_Ethiopia = lr_model_Ethiopia.predict_proba(X_test_Ethiopia)[:,1]\n",
    "lr_auc_Ethiopia = roc_auc_score(Y_test_Ethiopia, lr_score_Ethiopia)\n",
    "print('roc_auc_score for Logistic Regression in Ethiopic data (without resampling): ', lr_auc_Ethiopia)\n",
    "print('Confidence interval for AUC in Logistic Regression is: ', roc_auc_ci(Y_test_Ethiopia, lr_score_Ethiopia, lr_auc_Ethiopia))"
   ]
  },
  {
   "cell_type": "markdown",
   "metadata": {},
   "source": [
    "### Decision tree"
   ]
  },
  {
   "cell_type": "code",
   "execution_count": null,
   "metadata": {},
   "outputs": [],
   "source": [
    "dt_model = DecisionTreeClassifier(random_state=42)\n",
    "dt_param_grid = {'max_depth': [2, 3, 4, 5, 6, 7, 8, 9, 10, 11, 12, 13, 14, 15]}\n",
    "dt_grid_search = GridSearchCV(estimator=dt_model, param_grid=dt_param_grid, cv=5, scoring='roc_auc')\n",
    "dt_grid_search.fit(X_train_Ethiopia, Y_train_Ethiopia)\n",
    "dt_best_params = dt_grid_search.best_params_\n",
    "print(dt_best_params)\n"
   ]
  },
  {
   "cell_type": "code",
   "execution_count": null,
   "metadata": {},
   "outputs": [],
   "source": [
    "dt_model_Ethiopia = dt_grid_search.best_estimator_\n",
    "dt_model_Ethiopia.fit(X_train_Ethiopia, Y_train_Ethiopia)\n",
    "dt_predict_Ethiopia = dt_model_Ethiopia.predict(X_test_Ethiopia)\n",
    "dt_score_Ethiopia = dt_model_Ethiopia.predict_proba(X_test_Ethiopia)[:,1]\n",
    "dt_auc_Ethiopia = roc_auc_score(Y_test_Ethiopia, dt_score_Ethiopia)\n",
    "print('roc_auc_score for Decision Tree in Ethiopic data (without resampling): ', dt_auc_Ethiopia)\n",
    "print('Confidence interval for AUC in Decision Tree is: ', roc_auc_ci(Y_test_Ethiopia, dt_score_Ethiopia, dt_auc_Ethiopia))"
   ]
  },
  {
   "cell_type": "markdown",
   "metadata": {},
   "source": [
    "### Linear SVM"
   ]
  },
  {
   "cell_type": "code",
   "execution_count": null,
   "metadata": {},
   "outputs": [],
   "source": [
    "svm_model_Ethiopia = SVC(kernel='linear', probability=True)\n",
    "svm_model_Ethiopia.fit(X_train_Ethiopia, Y_train_Ethiopia)\n",
    "svm_predict_Ethiopia = svm_model_Ethiopia.predict(X_test_Ethiopia)\n",
    "svm_score_Ethiopia = svm_model_Ethiopia.predict_proba(X_test_Ethiopia)[:,1]\n",
    "svm_auc_Ethiopia = roc_auc_score(Y_test_Ethiopia, svm_score_Ethiopia)\n",
    "print('roc_auc_score for Linear Support Vectore Machine in Ethiopic data (without resampling): ', svm_auc_Ethiopia)\n",
    "print('Confidence interval for AUC in Linear SVM is: ', roc_auc_ci(Y_test_Ethiopia, svm_score_Ethiopia, svm_auc_Ethiopia))"
   ]
  },
  {
   "cell_type": "markdown",
   "metadata": {},
   "source": [
    "### KNN"
   ]
  },
  {
   "cell_type": "code",
   "execution_count": null,
   "metadata": {},
   "outputs": [],
   "source": [
    "knn_model = KNeighborsClassifier()\n",
    "knn_param_grid = {'n_neighbors': [10, 15, 20, 30, 40, 50, 60, 80, 100]}\n",
    "knn_grid_search = GridSearchCV(knn_model, knn_param_grid, cv=5, scoring='roc_auc')\n",
    "knn_grid_search.fit(X_train_Ethiopia, Y_train_Ethiopia)\n",
    "knn_best_params = knn_grid_search.best_params_\n",
    "print(knn_best_params)"
   ]
  },
  {
   "cell_type": "code",
   "execution_count": null,
   "metadata": {},
   "outputs": [],
   "source": [
    "knn_model_Ethiopia = knn_grid_search.best_estimator_\n",
    "knn_model_Ethiopia.fit(X_train_Ethiopia, Y_train_Ethiopia)\n",
    "knn_predict_Ethiopia = knn_model_Ethiopia.predict(X_test_Ethiopia)\n",
    "knn_score_Ethiopia = knn_model_Ethiopia.predict_proba(X_test_Ethiopia)[:,1]\n",
    "knn_auc_Ethiopia = roc_auc_score(Y_test_Ethiopia, knn_score_Ethiopia)\n",
    "print('roc_auc_score for K-nearest Neighbors in Ethiopic data (without resampling): ', knn_auc_Ethiopia)\n",
    "print('Confidence interval for AUC in KNN is: ', roc_auc_ci(Y_test_Ethiopia, knn_score_Ethiopia, knn_auc_Ethiopia))"
   ]
  },
  {
   "cell_type": "markdown",
   "metadata": {},
   "source": [
    "### Random Forest"
   ]
  },
  {
   "cell_type": "code",
   "execution_count": null,
   "metadata": {},
   "outputs": [],
   "source": [
    "rf_model = RandomForestClassifier(random_state=42)\n",
    "rf_param_rand = {'n_estimators': range(2, 20), 'max_depth': range(2,15)}\n",
    "rf_rand_search = RandomizedSearchCV(rf_model, param_distributions = rf_param_rand, n_iter=5, cv=5,random_state = 42)\n",
    "rf_rand_search.fit(X_train_Ethiopia, Y_train_Ethiopia)\n",
    "rf_best_params = rf_rand_search.best_params_\n",
    "print(rf_best_params)"
   ]
  },
  {
   "cell_type": "code",
   "execution_count": null,
   "metadata": {},
   "outputs": [],
   "source": [
    "rf_model_Ethiopia = rf_rand_search.best_estimator_\n",
    "rf_model_Ethiopia.fit(X_train_Ethiopia, Y_train_Ethiopia)\n",
    "rf_predict_Ethiopia = rf_model_Ethiopia.predict(X_test_Ethiopia)\n",
    "rf_score_Ethiopia = rf_model_Ethiopia.predict_proba(X_test_Ethiopia)[:,1]\n",
    "rf_auc_Ethiopia = roc_auc_score(Y_test_Ethiopia, rf_score_Ethiopia)\n",
    "print('roc_auc_score for Random Forest in Ethiopic data (without resampling): ', rf_auc_Ethiopia)\n",
    "print('Confidence interval for AUC in Random Forest is: ', roc_auc_ci(Y_test_Ethiopia, rf_score_Ethiopia, rf_auc_Ethiopia))"
   ]
  },
  {
   "cell_type": "markdown",
   "metadata": {},
   "source": [
    "### Adaboosting"
   ]
  },
  {
   "cell_type": "code",
   "execution_count": null,
   "metadata": {},
   "outputs": [],
   "source": [
    "ada_model = AdaBoostClassifier(base_estimator=DecisionTreeClassifier(random_state=42))\n",
    "ada_param_grid = {'base_estimator__max_depth': [1, 2], 'n_estimators': range(100, 275, 25), 'learning_rate': [0.01, 0.02, 0.05]}\n",
    "ada_grid_search = GridSearchCV(ada_model, ada_param_grid, cv=5, scoring='roc_auc')\n",
    "ada_grid_search.fit(X_train_Ethiopia, Y_train_Ethiopia)\n",
    "ada_best_params = ada_grid_search.best_params_\n",
    "print(ada_best_params)"
   ]
  },
  {
   "cell_type": "code",
   "execution_count": null,
   "metadata": {},
   "outputs": [],
   "source": [
    "ada_model_Ethiopia = ada_grid_search.best_estimator_\n",
    "ada_model_Ethiopia.fit(X_train_Ethiopia, Y_train_Ethiopia)\n",
    "ada_predict_Ethiopia = ada_model_Ethiopia.predict(X_test_Ethiopia)\n",
    "ada_score_Ethiopia = ada_model_Ethiopia.predict_proba(X_test_Ethiopia)[:,1]\n",
    "ada_auc_Ethiopia = roc_auc_score(Y_test_Ethiopia, ada_score_Ethiopia)\n",
    "print('roc_auc_score for Adaboosting in Ethiopic data (without resampling): ', ada_auc_Ethiopia)\n",
    "print('Confidence interval for AUC in Adaboosting is: ', roc_auc_ci(Y_test_Ethiopia, ada_score_Ethiopia, ada_auc_Ethiopia))"
   ]
  },
  {
   "cell_type": "markdown",
   "metadata": {},
   "source": [
    "### Bagging"
   ]
  },
  {
   "cell_type": "code",
   "execution_count": null,
   "metadata": {},
   "outputs": [],
   "source": [
    "bag_model = BaggingClassifier(base_estimator=DecisionTreeClassifier(random_state=42), random_state=42)\n",
    "bag_param_grid = {'n_estimators': range(100, 275, 25),\n",
    "                  'base_estimator__max_depth': [3, 4, 5, 6],\n",
    "                  'max_samples': [0.3, 0.5, 0.7, 1.0],\n",
    "                  'max_features': [0.3, 0.5, 0.7, 1.0]}\n",
    "bag_grid_search = GridSearchCV(bag_model, bag_param_grid, cv=5, scoring='roc_auc')\n",
    "bag_grid_search.fit(X_train_Ethiopia_scaled, Y_train_Ethiopia)\n",
    "bag_best_params = bag_grid_search.best_params_\n",
    "print(bag_best_params)"
   ]
  },
  {
   "cell_type": "code",
   "execution_count": null,
   "metadata": {},
   "outputs": [],
   "source": [
    "bag_model_Ethiopia = bag_grid_search.best_estimator_\n",
    "bag_model_Ethiopia.fit(X_train_Ethiopia_scaled, Y_train_Ethiopia)\n",
    "bag_predict_Ethiopia = bag_model_Ethiopia.predict(X_test_Ethiopia_scaled)\n",
    "bag_score_Ethiopia = bag_model_Ethiopia.predict_proba(X_test_Ethiopia_scaled)[:,1]\n",
    "bag_auc_Ethiopia = roc_auc_score(Y_test_Ethiopia, bag_score_Ethiopia)\n",
    "print('roc_auc_score for Bagging in Ethiopic data (without resampling): ', bag_auc_Ethiopia)\n",
    "print('Confidence interval for AUC in Bagging is: ', roc_auc_ci(Y_test_Ethiopia, bag_score_Ethiopia, bag_auc_Ethiopia))"
   ]
  },
  {
   "cell_type": "markdown",
   "metadata": {},
   "source": [
    "### Gradient boosting"
   ]
  },
  {
   "cell_type": "code",
   "execution_count": null,
   "metadata": {},
   "outputs": [],
   "source": [
    "gb_model = GradientBoostingClassifier(random_state=42)\n",
    "gb_param_grid = {'n_estimators': range(150, 325, 25), 'learning_rate': [0.01, 0.02, 0.05, 0.1], 'max_depth': [3, 4, 5]}\n",
    "gb_grid_search = GridSearchCV(gb_model, gb_param_grid, cv=5, scoring='roc_auc')\n",
    "gb_grid_search.fit(X_train_Ethiopia_scaled, Y_train_Ethiopia)\n",
    "gb_best_params = gb_grid_search.best_params_\n",
    "print(gb_best_params)"
   ]
  },
  {
   "cell_type": "code",
   "execution_count": null,
   "metadata": {},
   "outputs": [],
   "source": [
    "gb_model_Ethiopia = gb_grid_search.best_estimator_\n",
    "gb_model_Ethiopia.fit(X_train_Ethiopia_scaled, Y_train_Ethiopia)\n",
    "gb_predict_Ethiopia = gb_model_Ethiopia.predict(X_test_Ethiopia_scaled)\n",
    "gb_score_Ethiopia = gb_model_Ethiopia.predict_proba(X_test_Ethiopia_scaled)[:,1]\n",
    "gb_auc_Ethiopia = roc_auc_score(Y_test_Ethiopia, gb_score_Ethiopia)\n",
    "print('roc_auc_score for Gradient Boosting in Ethiopic data (without resampling): ', gb_auc_Ethiopia)\n",
    "print('Confidence interval for AUC in Gradient Boosting is: ', roc_auc_ci(Y_test_Ethiopia, gb_score_Ethiopia, gb_auc_Ethiopia))"
   ]
  },
  {
   "cell_type": "markdown",
   "metadata": {},
   "source": [
    "## Resampling with SMOTE"
   ]
  },
  {
   "cell_type": "code",
   "execution_count": null,
   "metadata": {
    "scrolled": true
   },
   "outputs": [],
   "source": [
    "sampling_strategies = [0.1, 0.2, 0.3, 0.4, 0.5, 0.6, 0.7, 0.8, 0.9, 1]\n",
    "\n",
    "classifiers = {\n",
    "    'LogisticRegression': lr_model_Ethiopia,\n",
    "    'DecisionTree': dt_model_Ethiopia,\n",
    "    'SVM': svm_model_Ethiopia,\n",
    "    'KNN': knn_model_Ethiopia,\n",
    "    'RandomForest': rf_model_Ethiopia,\n",
    "    'Adaboosting': ada_model_Ethiopia,\n",
    "    'Bagging': bag_model_Ethiopia,\n",
    "    'GradientBoosting': gb_model_Ethiopia\n",
    "}\n",
    "\n",
    "for strategy in sampling_strategies:\n",
    "    print(f\"SMOTE Sampling Strategy: {strategy}\")\n",
    "    \n",
    "    # Apply SMOTE with the current sampling strategy\n",
    "    smote = SMOTE(sampling_strategy=strategy, random_state=42)\n",
    "    X_train_smote, Y_train_smote = smote.fit_resample(X_train_Ethiopia, Y_train_Ethiopia)\n",
    "    X_train_smote_scaled, Y_train_smote_scaled = smote.fit_resample(X_train_Ethiopia_scaled, Y_train_Ethiopia)\n",
    "    \n",
    "    # Iterate over classifiers\n",
    "    for name, clf in classifiers.items():\n",
    "        if name=='GradientBoosting' or name=='Bagging':\n",
    "            clf.fit(X_train_smote_scaled, Y_train_smote_scaled)\n",
    "            y_pred_proba = clf.predict_proba(X_test_Ethiopia_scaled)[:, 1]\n",
    "        else:\n",
    "            clf.fit(X_train_smote, Y_train_smote)\n",
    "            y_pred_proba = clf.predict_proba(X_test_Ethiopia)[:, 1]\n",
    "\n",
    "        auc_score = roc_auc_score(Y_test_Ethiopia, y_pred_proba)\n",
    "        print(f\"{name} AUC: {auc_score}\")"
   ]
  },
  {
   "cell_type": "code",
   "execution_count": null,
   "metadata": {},
   "outputs": [],
   "source": [
    "sampling_strategies = [0, 0.1, 0.2, 0.3, 0.4, 0.5, 0.6, 0.7, 0.8, 0.9, 1]\n",
    "logistic_regression = [0.7418963231703063, 0.7292123072629597, 0.7343682411218866, 0.7383520546989465, 0.7471220260936301, 0.7494871973766832, 0.7519221377241331, 0.7533105421056304, 0.7527244819646969, 0.7529686736900859, 0.7536105490825368]\n",
    "decision_tree = [0.7374973836600852, 0.7451405846647596, 0.748430196051071, 0.748430196051071, 0.748430196051071, 0.7326344798716249, 0.7517512035163608, 0.7517512035163608, 0.7517512035163608, 0.7517512035163608, 0.7517512035163608]\n",
    "linear_svm = [0.6075978511128165, 0.68318565548036, 0.7200586060140932, 0.7369287657852508, 0.7424126142468429, 0.7432917044582433, 0.7402462847973209, 0.7448580199539524, 0.7443173097048769, 0.744135910137445, 0.7459847903439615]\n",
    "knn = [0.5203865206167585, 0.5223295890602108, 0.5254273355194307, 0.5326798297634829, 0.5426044791739343, 0.5320833042628899, 0.540971883067048, 0.5436893881253052, 0.5415893392869602, 0.5418230656526896, 0.5437033419381846]\n",
    "random_forest = [0.759422312146794, 0.7631723993581245, 0.7540605595478964, 0.7594118467871346, 0.7550338379962325, 0.7564710807228076, 0.7513256122235401, 0.7496651084908952, 0.7561745621991209, 0.7500697690643967, 0.7587106676899462]\n",
    "adaboosting = [0.7732261215377102, 0.7697516221307471, 0.7677911114211959, 0.7691934696155724, 0.7700097676690155, 0.7682027489011372, 0.7711190957929255, 0.7706760622340054, 0.7699190678852997, 0.7713039838135771, 0.7712725877345985]\n",
    "bagging = [0.762101444219633, 0.772081908881602, 0.7703830321635387, 0.7740563734040327, 0.774513360775832, 0.7743145189423011, 0.7727307611804926, 0.7718202748901137, 0.7712516570152795, 0.77367264354985, 0.7755808274611038]\n",
    "gradient_boosting = [0.7689667201562828, 0.7705051280262332, 0.7692946347589479, 0.7680457685062443, 0.7684922905183842, 0.7727307611804926, 0.7747366217819018, 0.7712481685620596, 0.7736586897369707, 0.7750575594781275, 0.7748482522849369]\n",
    "\n",
    "plt.figure(figsize=(10, 6))\n",
    "plt.plot(sampling_strategies, logistic_regression, label='Logistic Regression', marker='o')\n",
    "plt.plot(sampling_strategies, decision_tree, label='Decision Tree', marker='o')\n",
    "plt.plot(sampling_strategies, linear_svm, label='Linear SVM', marker='o')\n",
    "plt.plot(sampling_strategies, knn, label='KNN', marker='o')\n",
    "plt.plot(sampling_strategies, random_forest, label='Random Forest', marker='o')\n",
    "plt.plot(sampling_strategies, adaboosting, label='Adaboosting', marker='o')\n",
    "plt.plot(sampling_strategies, bagging, label='Bagging', marker='o')\n",
    "plt.plot(sampling_strategies, gradient_boosting, label='Gradient Boosting', marker='o')\n",
    "\n",
    "plt.xlabel('Sampling Strategy')\n",
    "plt.ylabel('AUC Score')\n",
    "plt.title('AUC vs. Sampling Strategy')\n",
    "plt.legend(fontsize=12)\n",
    "plt.grid(True)\n",
    "plt.savefig('Ethiopia_sampling.png', dpi=200, bbox_inches='tight', pad_inches=0)\n"
   ]
  },
  {
   "cell_type": "markdown",
   "metadata": {},
   "source": [
    "### Best AUC & SMOTE strategy for each model\n",
    "\n",
    "logistic_regression: 0.7536105490825368, SMOTE=1\n",
    "\n",
    "decision_tree: 0.7517512035163608, SMOTE=1\n",
    "\n",
    "linear_svm: 0.7459847903439615, SMOTE=1\n",
    "\n",
    "knn: 0.5437033419381846, SMOTE=1\n",
    "\n",
    "random_forest: 0.7631723993581245, SMOTE=0.1\n",
    "\n",
    "adaboosting: 0.7732261215377102, SMOTE=0\n",
    "\n",
    "bagging: 0.7755808274611038, SMOTE=1\n",
    "\n",
    "gradient_boosting: 0.7750575594781275, SMOTE=0.9\n",
    "\n",
    "Best model: bagging: 0.7755808274611038, SMOTE=1"
   ]
  },
  {
   "cell_type": "markdown",
   "metadata": {},
   "source": [
    "### Draw AUC plots with SMOTE strategy"
   ]
  },
  {
   "cell_type": "code",
   "execution_count": null,
   "metadata": {},
   "outputs": [],
   "source": [
    "# Initialize SMOTE\n",
    "smote_1 = SMOTE(sampling_strategy=1, random_state=42)\n",
    "X_train_Ethiopia_smote_1, Y_train_Ethiopia_smote_1 = smote_1.fit_resample(X_train_Ethiopia, Y_train_Ethiopia)\n",
    "X_train_Ethiopia_smote_1_scaled, Y_train_Ethiopia_smote_1_scaled = smote_1.fit_resample(X_train_Ethiopia_scaled, Y_train_Ethiopia)\n",
    "\n",
    "smote_01 = SMOTE(sampling_strategy=0.1, random_state=42)\n",
    "X_train_Ethiopia_smote_01, Y_train_Ethiopia_smote_01 = smote_01.fit_resample(X_train_Ethiopia, Y_train_Ethiopia)\n",
    "\n",
    "smote_06 = SMOTE(sampling_strategy=0.6, random_state=42)\n",
    "X_train_Ethiopia_smote_06, Y_train_Ethiopia_smote_06 = smote_06.fit_resample(X_train_Ethiopia, Y_train_Ethiopia)\n",
    "\n",
    "smote_09 = SMOTE(sampling_strategy=0.9, random_state=42)\n",
    "X_train_Ethiopia_smote_09, Y_train_Ethiopia_smote_09 = smote_09.fit_resample(X_train_Ethiopia, Y_train_Ethiopia)\n",
    "X_train_Ethiopia_smote_09_scaled, Y_train_Ethiopia_smote_09_scaled = smote_09.fit_resample(X_train_Ethiopia_scaled, Y_train_Ethiopia)\n"
   ]
  },
  {
   "cell_type": "markdown",
   "metadata": {},
   "source": [
    "### Logistic Regression, SMOTE=1"
   ]
  },
  {
   "cell_type": "code",
   "execution_count": null,
   "metadata": {},
   "outputs": [],
   "source": [
    "lr_model_Ethiopia = LogisticRegression(solver='liblinear', random_state=42)\n",
    "lr_model_Ethiopia.fit(X_train_Ethiopia_smote_1, Y_train_Ethiopia_smote_1)\n",
    "lr_predict_Ethiopia = lr_model_Ethiopia.predict(X_test_Ethiopia)\n",
    "lr_score_Ethiopia = lr_model_Ethiopia.predict_proba(X_test_Ethiopia)[:,1]\n",
    "lr_auc_Ethiopia = roc_auc_score(Y_test_Ethiopia, lr_score_Ethiopia)\n",
    "print('roc_auc_score for Logistic Regression in Ethiopic data: ', lr_auc_Ethiopia)\n",
    "print('Confidence interval for AUC in Logistic Regression is: ', roc_auc_ci(Y_test_Ethiopia, lr_score_Ethiopia, lr_auc_Ethiopia))\n"
   ]
  },
  {
   "cell_type": "code",
   "execution_count": null,
   "metadata": {},
   "outputs": [],
   "source": [
    "# Draw ROC curve\n",
    "fpr, tpr, thresholds = roc_curve(Y_test_Ethiopia, lr_score_Ethiopia)\n",
    "roc_auc = auc(fpr, tpr)\n",
    "\n",
    "# Plotting\n",
    "plt.figure(figsize=(8, 6))\n",
    "plt.plot(fpr, tpr, color='darkorange', lw=2, label=f'ROC curve (area = {roc_auc:.2f})')\n",
    "plt.plot([0, 1], [0, 1], color='navy', lw=2, linestyle='--')\n",
    "plt.xlim([0.0, 1.0])\n",
    "plt.ylim([0.0, 1.05])\n",
    "plt.xlabel('False Positive Rate')\n",
    "plt.ylabel('True Positive Rate')\n",
    "plt.title('Logistic Regression ROC Curve in Ethiopia')\n",
    "plt.legend(loc=\"lower right\")\n",
    "\n",
    "# Use seaborn for more beautiful aesthetics\n",
    "sns.set_style(\"whitegrid\")\n",
    "\n",
    "# plt.show()\n",
    "plt.savefig('lr_roc_E.jpg')"
   ]
  },
  {
   "cell_type": "markdown",
   "metadata": {},
   "source": [
    "### Decision Tree, SMOTE=0.6"
   ]
  },
  {
   "cell_type": "code",
   "execution_count": null,
   "metadata": {},
   "outputs": [],
   "source": [
    "dt_model_Ethiopia = DecisionTreeClassifier(max_depth=3, random_state=42)\n",
    "dt_model_Ethiopia.fit(X_train_Ethiopia_smote_06, Y_train_Ethiopia_smote_06)\n",
    "dt_predict_Ethiopia = dt_model_Ethiopia.predict(X_test_Ethiopia)\n",
    "dt_score_Ethiopia = dt_model_Ethiopia.predict_proba(X_test_Ethiopia)[:,1]\n",
    "dt_auc_Ethiopia = roc_auc_score(Y_test_Ethiopia, dt_score_Ethiopia)\n",
    "print('roc_auc_score for Decision Tree in Ethiopic data: ', dt_auc_Ethiopia)\n",
    "print('Confidence interval for AUC in Decision Tree is: ', roc_auc_ci(Y_test_Ethiopia, dt_score_Ethiopia, dt_auc_Ethiopia))"
   ]
  },
  {
   "cell_type": "code",
   "execution_count": null,
   "metadata": {},
   "outputs": [],
   "source": [
    "# Draw ROC curve\n",
    "fpr, tpr, thresholds = roc_curve(Y_test_Ethiopia, dt_score_Ethiopia)\n",
    "roc_auc = auc(fpr, tpr)\n",
    "\n",
    "# Plotting\n",
    "plt.figure(figsize=(8, 6))\n",
    "plt.plot(fpr, tpr, color='darkorange', lw=2, label=f'ROC curve (area = {roc_auc:.2f})')\n",
    "plt.plot([0, 1], [0, 1], color='navy', lw=2, linestyle='--')\n",
    "plt.xlim([0.0, 1.0])\n",
    "plt.ylim([0.0, 1.05])\n",
    "plt.xlabel('False Positive Rate')\n",
    "plt.ylabel('True Positive Rate')\n",
    "plt.title('Decision Tree ROC Curve in Ethiopia')\n",
    "plt.legend(loc=\"lower right\")\n",
    "\n",
    "# Use seaborn for more beautiful aesthetics\n",
    "sns.set_style(\"whitegrid\")\n",
    "\n",
    "# plt.show()\n",
    "plt.savefig('dt_roc_E.jpg')"
   ]
  },
  {
   "cell_type": "markdown",
   "metadata": {},
   "source": [
    "### Linear SVM, SMOTE=1"
   ]
  },
  {
   "cell_type": "code",
   "execution_count": null,
   "metadata": {},
   "outputs": [],
   "source": [
    "svm_model_Ethiopia = SVC(kernel='linear', probability=True)\n",
    "svm_model_Ethiopia.fit(X_train_Ethiopia_smote_1, Y_train_Ethiopia_smote_1)\n",
    "svm_predict_Ethiopia = svm_model_Ethiopia.predict(X_test_Ethiopia)\n",
    "svm_score_Ethiopia = svm_model_Ethiopia.predict_proba(X_test_Ethiopia)[:,1]\n",
    "svm_auc_Ethiopia = roc_auc_score(Y_test_Ethiopia, svm_score_Ethiopia)\n",
    "print('roc_auc_score for Linear Support Vectore Machine in Ethiopic data: ', svm_auc_Ethiopia)\n",
    "print('Confidence interval for AUC in Linear SVM is: ', roc_auc_ci(Y_test_Ethiopia, svm_score_Ethiopia, svm_auc_Ethiopia))"
   ]
  },
  {
   "cell_type": "code",
   "execution_count": null,
   "metadata": {},
   "outputs": [],
   "source": [
    "# Draw ROC curve\n",
    "fpr, tpr, thresholds = roc_curve(Y_test_Ethiopia, svm_score_Ethiopia)\n",
    "roc_auc = auc(fpr, tpr)\n",
    "\n",
    "# Plotting\n",
    "plt.figure(figsize=(8, 6))\n",
    "plt.plot(fpr, tpr, color='darkorange', lw=2, label=f'ROC curve (area = {roc_auc:.2f})')\n",
    "plt.plot([0, 1], [0, 1], color='navy', lw=2, linestyle='--')\n",
    "plt.xlim([0.0, 1.0])\n",
    "plt.ylim([0.0, 1.05])\n",
    "plt.xlabel('False Positive Rate')\n",
    "plt.ylabel('True Positive Rate')\n",
    "plt.title('Linear SVM ROC Curve in Ethiopia')\n",
    "plt.legend(loc=\"lower right\")\n",
    "\n",
    "# Use seaborn for more beautiful aesthetics\n",
    "sns.set_style(\"whitegrid\")\n",
    "\n",
    "# plt.show()\n",
    "plt.savefig('svm_roc_E.jpg')"
   ]
  },
  {
   "cell_type": "markdown",
   "metadata": {},
   "source": [
    "### KNN, SMOTE=1"
   ]
  },
  {
   "cell_type": "code",
   "execution_count": null,
   "metadata": {},
   "outputs": [],
   "source": [
    "knn_model_Ethiopia = knn_model = KNeighborsClassifier(n_neighbors=80)\n",
    "knn_model_Ethiopia.fit(X_train_Ethiopia_smote_1, Y_train_Ethiopia_smote_1)\n",
    "knn_predict_Ethiopia = knn_model_Ethiopia.predict(X_test_Ethiopia)\n",
    "knn_score_Ethiopia = knn_model_Ethiopia.predict_proba(X_test_Ethiopia)[:,1]\n",
    "knn_auc_Ethiopia = roc_auc_score(Y_test_Ethiopia, knn_score_Ethiopia)\n",
    "print('roc_auc_score for K-nearest Neighbors in Ethiopic data: ', knn_auc_Ethiopia)\n",
    "print('Confidence interval for AUC in KNN is: ', roc_auc_ci(Y_test_Ethiopia, knn_score_Ethiopia, knn_auc_Ethiopia))"
   ]
  },
  {
   "cell_type": "code",
   "execution_count": null,
   "metadata": {},
   "outputs": [],
   "source": [
    "# Draw ROC curve\n",
    "fpr, tpr, thresholds = roc_curve(Y_test_Ethiopia, knn_score_Ethiopia)\n",
    "roc_auc = auc(fpr, tpr)\n",
    "\n",
    "# Plotting\n",
    "plt.figure(figsize=(8, 6))\n",
    "plt.plot(fpr, tpr, color='darkorange', lw=2, label=f'ROC curve (area = {roc_auc:.2f})')\n",
    "plt.plot([0, 1], [0, 1], color='navy', lw=2, linestyle='--')\n",
    "plt.xlim([0.0, 1.0])\n",
    "plt.ylim([0.0, 1.05])\n",
    "plt.xlabel('False Positive Rate')\n",
    "plt.ylabel('True Positive Rate')\n",
    "plt.title('KNN ROC Curve in Ethiopia')\n",
    "plt.legend(loc=\"lower right\")\n",
    "\n",
    "# Use seaborn for more beautiful aesthetics\n",
    "sns.set_style(\"whitegrid\")\n",
    "\n",
    "# plt.show()\n",
    "plt.savefig('knn_roc_E.jpg')"
   ]
  },
  {
   "cell_type": "markdown",
   "metadata": {},
   "source": [
    "### Random Forest, SMOTE=0.1"
   ]
  },
  {
   "cell_type": "code",
   "execution_count": null,
   "metadata": {},
   "outputs": [],
   "source": [
    "rf_model_Ethiopia = RandomForestClassifier(n_estimators=17, max_depth=5, random_state=42)\n",
    "rf_model_Ethiopia.fit(X_train_Ethiopia_smote_01, Y_train_Ethiopia_smote_01)\n",
    "rf_predict_Ethiopia = rf_model_Ethiopia.predict(X_test_Ethiopia)\n",
    "rf_score_Ethiopia = rf_model_Ethiopia.predict_proba(X_test_Ethiopia)[:,1]\n",
    "rf_auc_Ethiopia = roc_auc_score(Y_test_Ethiopia, rf_score_Ethiopia)\n",
    "print('roc_auc_score for Random Forest in Ethiopic data: ', rf_auc_Ethiopia)\n",
    "print('Confidence interval for AUC in Random Forest is: ', roc_auc_ci(Y_test_Ethiopia, rf_score_Ethiopia, rf_auc_Ethiopia))"
   ]
  },
  {
   "cell_type": "code",
   "execution_count": null,
   "metadata": {},
   "outputs": [],
   "source": [
    "# Draw ROC curve\n",
    "fpr, tpr, thresholds = roc_curve(Y_test_Ethiopia, rf_score_Ethiopia)\n",
    "roc_auc = auc(fpr, tpr)\n",
    "\n",
    "# Plotting\n",
    "plt.figure(figsize=(8, 6))\n",
    "plt.plot(fpr, tpr, color='darkorange', lw=2, label=f'ROC curve (area = {roc_auc:.2f})')\n",
    "plt.plot([0, 1], [0, 1], color='navy', lw=2, linestyle='--')\n",
    "plt.xlim([0.0, 1.0])\n",
    "plt.ylim([0.0, 1.05])\n",
    "plt.xlabel('False Positive Rate')\n",
    "plt.ylabel('True Positive Rate')\n",
    "plt.title('Random Forest ROC Curve in Ethiopia')\n",
    "plt.legend(loc=\"lower right\")\n",
    "\n",
    "# Use seaborn for more beautiful aesthetics\n",
    "sns.set_style(\"whitegrid\")\n",
    "\n",
    "# plt.show()\n",
    "plt.savefig('rf_roc_E.jpg')"
   ]
  },
  {
   "cell_type": "markdown",
   "metadata": {},
   "source": [
    "### Adaboosting, SMOTE=0"
   ]
  },
  {
   "cell_type": "code",
   "execution_count": null,
   "metadata": {},
   "outputs": [],
   "source": [
    "ada_model_Ethiopia = AdaBoostClassifier(base_estimator=DecisionTreeClassifier(max_depth=1, random_state=42), learning_rate=0.05, n_estimators=150, random_state=42)\n",
    "ada_model_Ethiopia.fit(X_train_Ethiopia, Y_train_Ethiopia)\n",
    "ada_predict_Ethiopia = ada_model_Ethiopia.predict(X_test_Ethiopia)\n",
    "ada_score_Ethiopia = ada_model_Ethiopia.predict_proba(X_test_Ethiopia)[:,1]\n",
    "ada_auc_Ethiopia = roc_auc_score(Y_test_Ethiopia, ada_score_Ethiopia)\n",
    "print('roc_auc_score for Adaboosting in Ethiopic data: ', ada_auc_Ethiopia)\n",
    "print('Confidence interval for AUC in Adaboosting is: ', roc_auc_ci(Y_test_Ethiopia, ada_score_Ethiopia, ada_auc_Ethiopia))\n"
   ]
  },
  {
   "cell_type": "code",
   "execution_count": null,
   "metadata": {},
   "outputs": [],
   "source": [
    "# Draw ROC curve\n",
    "fpr, tpr, thresholds = roc_curve(Y_test_Ethiopia, ada_score_Ethiopia)\n",
    "roc_auc = auc(fpr, tpr)\n",
    "\n",
    "# Plotting\n",
    "plt.figure(figsize=(8, 6))\n",
    "plt.plot(fpr, tpr, color='darkorange', lw=2, label=f'ROC curve (area = {roc_auc:.2f})')\n",
    "plt.plot([0, 1], [0, 1], color='navy', lw=2, linestyle='--')\n",
    "plt.xlim([0.0, 1.0])\n",
    "plt.ylim([0.0, 1.05])\n",
    "plt.xlabel('False Positive Rate')\n",
    "plt.ylabel('True Positive Rate')\n",
    "plt.title('Adaboosting ROC Curve in Ethiopia')\n",
    "plt.legend(loc=\"lower right\")\n",
    "\n",
    "# Use seaborn for more beautiful aesthetics\n",
    "sns.set_style(\"whitegrid\")\n",
    "\n",
    "# plt.show()\n",
    "plt.savefig('ada_roc_E.jpg')"
   ]
  },
  {
   "cell_type": "markdown",
   "metadata": {},
   "source": [
    "### Bagging, SMOTE=1"
   ]
  },
  {
   "cell_type": "code",
   "execution_count": null,
   "metadata": {},
   "outputs": [],
   "source": [
    "bag_model_Ethiopia = BaggingClassifier(base_estimator=DecisionTreeClassifier(max_depth=3, random_state=42), max_features=0.7, max_samples=1.0, n_estimators=100, random_state=42)\n",
    "bag_model_Ethiopia.fit(X_train_Ethiopia_smote_1_scaled, Y_train_Ethiopia_smote_1_scaled)\n",
    "bag_predict_Ethiopia = bag_model_Ethiopia.predict(X_test_Ethiopia_scaled)\n",
    "bag_score_Ethiopia = bag_model_Ethiopia.predict_proba(X_test_Ethiopia_scaled)[:,1]\n",
    "bag_auc_Ethiopia = roc_auc_score(Y_test_Ethiopia, bag_score_Ethiopia)\n",
    "print('roc_auc_score for Bagging in Guinean data (without resampling): ', bag_auc_Ethiopia)\n",
    "print('Confidence interval for AUC in Bagging is: ', roc_auc_ci(Y_test_Ethiopia, bag_score_Ethiopia, bag_auc_Ethiopia))\n"
   ]
  },
  {
   "cell_type": "code",
   "execution_count": null,
   "metadata": {},
   "outputs": [],
   "source": [
    "# Draw ROC curve\n",
    "fpr, tpr, thresholds = roc_curve(Y_test_Ethiopia, bag_score_Ethiopia)\n",
    "roc_auc = auc(fpr, tpr)\n",
    "\n",
    "# Plotting\n",
    "plt.figure(figsize=(8, 6))\n",
    "plt.plot(fpr, tpr, color='darkorange', lw=2, label=f'ROC curve (area = {roc_auc:.2f})')\n",
    "plt.plot([0, 1], [0, 1], color='navy', lw=2, linestyle='--')\n",
    "plt.xlim([0.0, 1.0])\n",
    "plt.ylim([0.0, 1.05])\n",
    "plt.xlabel('False Positive Rate')\n",
    "plt.ylabel('True Positive Rate')\n",
    "plt.title('Bagging ROC Curve in Ethiopia')\n",
    "plt.legend(loc=\"lower right\")\n",
    "\n",
    "# Use seaborn for more beautiful aesthetics\n",
    "sns.set_style(\"whitegrid\")\n",
    "\n",
    "# plt.show()\n",
    "plt.savefig('bag_roc_E.jpg')"
   ]
  },
  {
   "cell_type": "markdown",
   "metadata": {},
   "source": [
    "### Gradient Boosting, SMOTE=0.9"
   ]
  },
  {
   "cell_type": "code",
   "execution_count": null,
   "metadata": {},
   "outputs": [],
   "source": [
    "gb_model_Ethiopia = GradientBoostingClassifier(learning_rate=0.01, max_depth=3, n_estimators=275, random_state=42)\n",
    "gb_model_Ethiopia.fit(X_train_Ethiopia_smote_09_scaled, Y_train_Ethiopia_smote_09_scaled)\n",
    "gb_predict_Ethiopia = gb_model_Ethiopia.predict(X_test_Ethiopia_scaled)\n",
    "gb_score_Ethiopia = gb_model_Ethiopia.predict_proba(X_test_Ethiopia_scaled)[:,1]\n",
    "gb_auc_Ethiopia = roc_auc_score(Y_test_Ethiopia, gb_score_Ethiopia)\n",
    "print('roc_auc_score for Gradient Boosting in Ethiopic data: ', gb_auc_Ethiopia)\n",
    "print('Confidence interval for AUC in Gradient Boosting is: ', roc_auc_ci(Y_test_Ethiopia, gb_score_Ethiopia, gb_auc_Ethiopia))"
   ]
  },
  {
   "cell_type": "code",
   "execution_count": null,
   "metadata": {},
   "outputs": [],
   "source": [
    "# Draw ROC curve\n",
    "fpr, tpr, thresholds = roc_curve(Y_test_Ethiopia, gb_score_Ethiopia)\n",
    "roc_auc = auc(fpr, tpr)\n",
    "\n",
    "# Plotting\n",
    "plt.figure(figsize=(8, 6))\n",
    "plt.plot(fpr, tpr, color='darkorange', lw=2, label=f'ROC curve (area = {roc_auc:.2f})')\n",
    "plt.plot([0, 1], [0, 1], color='navy', lw=2, linestyle='--')\n",
    "plt.xlim([0.0, 1.0])\n",
    "plt.ylim([0.0, 1.05])\n",
    "plt.xlabel('False Positive Rate')\n",
    "plt.ylabel('True Positive Rate')\n",
    "plt.title('Gradient Boosting ROC Curve in Ethiopia')\n",
    "plt.legend(loc=\"lower right\")\n",
    "\n",
    "# Use seaborn for more beautiful aesthetics\n",
    "sns.set_style(\"whitegrid\")\n",
    "\n",
    "# plt.show()\n",
    "plt.savefig('gb_roc_E.jpg')"
   ]
  },
  {
   "cell_type": "markdown",
   "metadata": {},
   "source": [
    "## OOD generalization\n",
    "\n",
    "Do same steps for data from Guinea"
   ]
  },
  {
   "cell_type": "code",
   "execution_count": null,
   "metadata": {},
   "outputs": [],
   "source": [
    "# Data from Guinea\n",
    "Births_Guinea = pd.read_sas('Births_Guinea.SAS7BDAT')\n",
    "print(Births_Guinea.shape)\n",
    "\n",
    "# 'M19': Birth_Weight: Birth weight in kilograms (3 decimals) [Original Response variable]\n",
    "print(\"The number of valid samples in the dataset is \" + str(len(Births_Guinea['M19'].dropna())))\n",
    "                                                            \n",
    "Births_Guinea.head()"
   ]
  },
  {
   "cell_type": "code",
   "execution_count": null,
   "metadata": {},
   "outputs": [],
   "source": [
    "Births_Guinea_df = Births_Guinea[['M19','V026','V106','H42','V190','V445','V447A','V457','V463A','V481','V717','V131',\n",
    "                  'V501','V130','B4','B0','M14','M17']]\n",
    "Births_Guinea_df.columns = ['Birth_Weight','Residence','Education','Iron','Wealth','BMI','Age_W','Anemia',\n",
    "                     'Smoking','Insurance','Occupation','Ethnicity','Marital','Religion','Gender',\n",
    "                    'Twin','Visits','Delivery_Caesarean']\n",
    "Births_Guinea_df = Births_Guinea_df.dropna(subset=['Birth_Weight'])\n",
    "Births_Guinea_df = Births_Guinea_df.reset_index()\n",
    "Births_Guinea_df = Births_Guinea_df.iloc[:,1:]\n",
    "print(Births_Guinea_df.shape)\n",
    "Births_Guinea_df.head()"
   ]
  },
  {
   "cell_type": "code",
   "execution_count": null,
   "metadata": {},
   "outputs": [],
   "source": [
    "# Categorical variables: one-hot encoding\n",
    "enc = OneHotEncoder(sparse=False)\n",
    "encoded_array = enc.fit_transform(Births_Guinea_df[['Residence', 'Education', 'Iron', 'Wealth', 'Anemia', 'Smoking', 'Insurance', 'Occupation', 'Ethnicity', 'Marital', 'Religion', 'Gender', 'Twin', 'Delivery_Caesarean']])\n",
    "\n",
    "encoded_cols = enc.get_feature_names_out(['Residence', 'Education', 'Iron', 'Wealth', 'Anemia', 'Smoking', 'Insurance', 'Occupation', 'Ethnicity', 'Marital', 'Religion', 'Gender', 'Twin', 'Delivery_Caesarean'])\n",
    "encoded_df = pd.DataFrame(encoded_array, columns=encoded_cols)\n",
    "\n",
    "# Drop the original columns that were encoded & concatenate with the other columns\n",
    "Births_Guinea_encoded = pd.concat([Births_Guinea_df.drop(['Residence', 'Education', 'Iron', 'Wealth', 'Anemia', 'Smoking', 'Insurance', 'Occupation', 'Ethnicity', 'Marital', 'Religion', 'Gender', 'Twin', 'Delivery_Caesarean'], axis=1), encoded_df], axis=1)\n",
    "\n",
    "# Drop the encoded columns showing NA or missing value\n",
    "Births_Guinea_encoded = Births_Guinea_encoded.drop(['Iron_8.0', 'Iron_nan', 'Anemia_nan', 'Occupation_10.0', 'Occupation_96.0', 'Occupation_98.0', 'Ethnicity_97.0', 'Delivery_Caesarean_nan'], axis=1)\n",
    "# Births_Guinea_encoded.head()"
   ]
  },
  {
   "cell_type": "code",
   "execution_count": null,
   "metadata": {},
   "outputs": [],
   "source": [
    "# Numerical variables: imputation\n",
    "missing_values = Births_Guinea_encoded.isnull().sum() / len(Births_Guinea_encoded)\n",
    "missing_values = missing_values[missing_values > 0]\n",
    "missing_values.sort_values(inplace=True)\n",
    "missing_values = missing_values.to_frame()\n",
    "missing_values.columns = ['Proportion of NaN']\n",
    "missing_values.index.names = ['Name']\n",
    "missing_values['Name'] = missing_values.index\n",
    "\n",
    "sns.set(style=\"whitegrid\", color_codes=True)\n",
    "sns.barplot(x = 'Name', y = 'Proportion of NaN', data=missing_values)\n",
    "plt.xticks(rotation = 45)\n",
    "addlabels(missing_values['Name'], y=missing_values['Proportion of NaN'])\n",
    "plt.show()"
   ]
  },
  {
   "cell_type": "code",
   "execution_count": null,
   "metadata": {},
   "outputs": [],
   "source": [
    "# Impute with mean simpleImputer\n",
    "imputer_sim = SimpleImputer(strategy = \"mean\")\n",
    "imputed_df_sim = imputer_sim.fit_transform(Births_Guinea_encoded)\n",
    "Births_Guinea_imputed = pd.DataFrame(imputed_df_sim)\n",
    "Births_Guinea_imputed.columns = Births_Guinea_encoded.columns\n",
    "# Births_Guinea_imputed.head()"
   ]
  },
  {
   "cell_type": "code",
   "execution_count": null,
   "metadata": {},
   "outputs": [],
   "source": [
    "# Response variable engineering\n",
    "Births_Guinea_imputed[\"Is_LBW\"] = Births_Guinea_imputed[\"Birth_Weight\"]<2500\n",
    "Births_Guinea_res = Births_Guinea_imputed.drop(['Birth_Weight'], axis=1)\n",
    "# Births_Guinea_res.head()"
   ]
  },
  {
   "cell_type": "code",
   "execution_count": null,
   "metadata": {},
   "outputs": [],
   "source": [
    "Y_Guinea = Births_Guinea_res[\"Is_LBW\"]\n",
    "Feature_Guinea = Births_Guinea_res.drop([\"Is_LBW\"], axis=1)"
   ]
  },
  {
   "cell_type": "code",
   "execution_count": null,
   "metadata": {},
   "outputs": [],
   "source": [
    "# Lasso for feature selection\n",
    "lasso = LogisticRegression(penalty='l1', solver='liblinear', C=1.0, random_state=42)\n",
    "lasso.fit(Feature_Guinea, Y_Guinea)\n",
    "\n",
    "coefficients = lasso.coef_[0]\n",
    "# Identify columns that were dropped (coefficients are zero)\n",
    "selected_columns = Feature_Guinea.columns[coefficients != 0]\n",
    "# print(\"Selected columns:\", selected_columns)\n",
    "\n",
    "# Select features based on the weights after Lasso regularization\n",
    "feature_model = SelectFromModel(lasso, prefit=True)\n",
    "\n",
    "# Transform the dataset to only include the selected features\n",
    "Feature_new = feature_model.transform(Feature_Guinea)\n",
    "\n",
    "# Update Feature df\n",
    "Feature_Guinea = pd.DataFrame(Feature_new, columns = ['BMI', 'Age_W', 'Visits', 'Residence_2.0', 'Education_1.0',\n",
    "       'Education_2.0', 'Education_3.0', 'Iron_1.0', 'Wealth_1.0',\n",
    "       'Wealth_2.0', 'Wealth_5.0', 'Anemia_1.0', 'Anemia_2.0', 'Anemia_3.0',\n",
    "       'Anemia_4.0', 'Smoking_1.0', 'Insurance_0.0', 'Occupation_0.0',\n",
    "       'Occupation_1.0', 'Occupation_2.0', 'Occupation_3.0', 'Occupation_4.0',\n",
    "       'Occupation_7.0', 'Occupation_9.0', 'Ethnicity_1.0', 'Ethnicity_2.0',\n",
    "       'Ethnicity_3.0', 'Ethnicity_4.0', 'Ethnicity_5.0', 'Ethnicity_6.0',\n",
    "       'Marital_0.0', 'Marital_2.0', 'Marital_3.0', 'Marital_5.0',\n",
    "       'Religion_1.0', 'Religion_2.0', 'Religion_4.0', 'Gender_1.0',\n",
    "       'Twin_0.0', 'Delivery_Caesarean_0.0', 'Delivery_Caesarean_1.0'])\n",
    "# Feature_Guinea.head()"
   ]
  },
  {
   "cell_type": "code",
   "execution_count": null,
   "metadata": {},
   "outputs": [],
   "source": [
    "# Whole Guinea df after data pre-processing\n",
    "Guinea_final = pd.concat([Feature_Guinea, Y_Guinea], 1)\n",
    "Guinea_final.head()"
   ]
  },
  {
   "cell_type": "code",
   "execution_count": null,
   "metadata": {},
   "outputs": [],
   "source": [
    "# Split training and testing set\n",
    "X_train_Guinea, X_test_Guinea, Y_train_Guinea, Y_test_Guinea = train_test_split(Feature_Guinea, Y_Guinea, test_size=0.25, random_state=42)"
   ]
  },
  {
   "cell_type": "code",
   "execution_count": null,
   "metadata": {},
   "outputs": [],
   "source": [
    "# Scale X if needed\n",
    "scaler = StandardScaler()\n",
    "X_train_Guinea_scaled = scaler.fit_transform(X_train_Guinea)\n",
    "X_test_Guinea_scaled = scaler.transform(X_test_Guinea)"
   ]
  },
  {
   "cell_type": "code",
   "execution_count": null,
   "metadata": {},
   "outputs": [],
   "source": [
    "# Initialize SMOTE\n",
    "X_train_Guinea_smote_1, Y_train_Guinea_smote_1 = smote_1.fit_resample(X_train_Guinea, Y_train_Guinea)\n",
    "X_train_Guinea_smote_1_scaled, Y_train_Guinea_smote_1_scaled = smote_1.fit_resample(X_train_Guinea_scaled, Y_train_Guinea)\n",
    "\n",
    "X_train_Guinea_smote_01, Y_train_Guinea_smote_01 = smote_01.fit_resample(X_train_Guinea, Y_train_Guinea)\n",
    "\n",
    "X_train_Guinea_smote_06, Y_train_Guinea_smote_06 = smote_06.fit_resample(X_train_Guinea, Y_train_Guinea)\n",
    "\n",
    "X_train_Guinea_smote_09, Y_train_Guinea_smote_09 = smote_09.fit_resample(X_train_Guinea, Y_train_Guinea)\n",
    "X_train_Guinea_smote_09_scaled, Y_train_Guinea_smote_09_scaled = smote_09.fit_resample(X_train_Guinea_scaled, Y_train_Guinea)\n"
   ]
  },
  {
   "cell_type": "markdown",
   "metadata": {},
   "source": [
    "### Logistic Regression, SMOTE=1"
   ]
  },
  {
   "cell_type": "code",
   "execution_count": null,
   "metadata": {},
   "outputs": [],
   "source": [
    "lr_model_Guinea = LogisticRegression(solver='liblinear', random_state=42)\n",
    "lr_model_Guinea.fit(X_train_Guinea_smote_1, Y_train_Guinea_smote_1)\n",
    "lr_predict_Guinea = lr_model_Guinea.predict(X_test_Guinea)\n",
    "lr_score_Guinea = lr_model_Guinea.predict_proba(X_test_Guinea)[:,1]\n",
    "lr_auc_Guinea = roc_auc_score(Y_test_Guinea, lr_score_Guinea)\n",
    "print('roc_auc_score for Logistic Regression in Guinean data: ', lr_auc_Guinea)\n",
    "print('Confidence interval for AUC in Logistic Regression is: ', roc_auc_ci(Y_test_Guinea, lr_score_Guinea, lr_auc_Guinea))\n"
   ]
  },
  {
   "cell_type": "code",
   "execution_count": null,
   "metadata": {},
   "outputs": [],
   "source": [
    "# Draw ROC curve\n",
    "fpr, tpr, thresholds = roc_curve(Y_test_Guinea, lr_score_Guinea)\n",
    "roc_auc = auc(fpr, tpr)\n",
    "\n",
    "# Plotting\n",
    "plt.figure(figsize=(8, 6))\n",
    "plt.plot(fpr, tpr, color='darkorange', lw=2, label=f'ROC curve (area = {roc_auc:.2f})')\n",
    "plt.plot([0, 1], [0, 1], color='navy', lw=2, linestyle='--')\n",
    "plt.xlim([0.0, 1.0])\n",
    "plt.ylim([0.0, 1.05])\n",
    "plt.xlabel('False Positive Rate')\n",
    "plt.ylabel('True Positive Rate')\n",
    "plt.title('Logistic Regression ROC Curve in Guinea')\n",
    "plt.legend(loc=\"lower right\")\n",
    "\n",
    "# Use seaborn for more beautiful aesthetics\n",
    "sns.set_style(\"whitegrid\")\n",
    "\n",
    "# plt.show()\n",
    "plt.savefig('lr_roc_G.jpg')"
   ]
  },
  {
   "cell_type": "markdown",
   "metadata": {},
   "source": [
    "### Decision Tree, SMOTE=1"
   ]
  },
  {
   "cell_type": "code",
   "execution_count": null,
   "metadata": {},
   "outputs": [],
   "source": [
    "dt_model_Guinea = DecisionTreeClassifier(max_depth=3, random_state=42)\n",
    "dt_model_Guinea.fit(X_train_Guinea_smote_1, Y_train_Guinea_smote_1)\n",
    "dt_predict_Guinea = dt_model_Guinea.predict(X_test_Guinea)\n",
    "dt_score_Guinea = dt_model_Guinea.predict_proba(X_test_Guinea)[:,1]\n",
    "dt_auc_Guinea = roc_auc_score(Y_test_Guinea, dt_score_Guinea)\n",
    "print('roc_auc_score for Decision Tree in Guinean data: ', dt_auc_Guinea)\n",
    "print('Confidence interval for AUC in Decision Tree is: ', roc_auc_ci(Y_test_Guinea, dt_score_Guinea, dt_auc_Guinea))"
   ]
  },
  {
   "cell_type": "code",
   "execution_count": null,
   "metadata": {},
   "outputs": [],
   "source": [
    "# Draw ROC curve\n",
    "fpr, tpr, thresholds = roc_curve(Y_test_Guinea, dt_score_Guinea)\n",
    "roc_auc = auc(fpr, tpr)\n",
    "\n",
    "# Plotting\n",
    "plt.figure(figsize=(8, 6))\n",
    "plt.plot(fpr, tpr, color='darkorange', lw=2, label=f'ROC curve (area = {roc_auc:.2f})')\n",
    "plt.plot([0, 1], [0, 1], color='navy', lw=2, linestyle='--')\n",
    "plt.xlim([0.0, 1.0])\n",
    "plt.ylim([0.0, 1.05])\n",
    "plt.xlabel('False Positive Rate')\n",
    "plt.ylabel('True Positive Rate')\n",
    "plt.title('Decision Tree ROC Curve in Guinea')\n",
    "plt.legend(loc=\"lower right\")\n",
    "\n",
    "# Use seaborn for more beautiful aesthetics\n",
    "sns.set_style(\"whitegrid\")\n",
    "\n",
    "# plt.show()\n",
    "plt.savefig('dt_roc_G.jpg')"
   ]
  },
  {
   "cell_type": "markdown",
   "metadata": {},
   "source": [
    "### Linear SVM, SMOTE=1"
   ]
  },
  {
   "cell_type": "code",
   "execution_count": null,
   "metadata": {},
   "outputs": [],
   "source": [
    "svm_model_Guinea = SVC(kernel='linear', probability=True)\n",
    "svm_model_Guinea.fit(X_train_Guinea_smote_1, Y_train_Guinea_smote_1)\n",
    "svm_predict_Guinea = svm_model_Guinea.predict(X_test_Guinea)\n",
    "svm_score_Guinea = svm_model_Guinea.predict_proba(X_test_Guinea)[:,1]\n",
    "svm_auc_Guinea = roc_auc_score(Y_test_Guinea, svm_score_Guinea)\n",
    "print('roc_auc_score for Linear Support Vectore Machine in Guinean data: ', svm_auc_Guinea)\n",
    "print('Confidence interval for AUC in SVM is: ', roc_auc_ci(Y_test_Guinea, svm_score_Guinea, svm_auc_Guinea))"
   ]
  },
  {
   "cell_type": "code",
   "execution_count": null,
   "metadata": {},
   "outputs": [],
   "source": [
    "# Draw ROC curve\n",
    "fpr, tpr, thresholds = roc_curve(Y_test_Guinea, svm_score_Guinea)\n",
    "roc_auc = auc(fpr, tpr)\n",
    "\n",
    "# Plotting\n",
    "plt.figure(figsize=(8, 6))\n",
    "plt.plot(fpr, tpr, color='darkorange', lw=2, label=f'ROC curve (area = {roc_auc:.2f})')\n",
    "plt.plot([0, 1], [0, 1], color='navy', lw=2, linestyle='--')\n",
    "plt.xlim([0.0, 1.0])\n",
    "plt.ylim([0.0, 1.05])\n",
    "plt.xlabel('False Positive Rate')\n",
    "plt.ylabel('True Positive Rate')\n",
    "plt.title('Linear SVM ROC Curve in Guinea')\n",
    "plt.legend(loc=\"lower right\")\n",
    "\n",
    "# Use seaborn for more beautiful aesthetics\n",
    "sns.set_style(\"whitegrid\")\n",
    "\n",
    "# plt.show()\n",
    "plt.savefig('svm_roc_G.jpg')"
   ]
  },
  {
   "cell_type": "markdown",
   "metadata": {},
   "source": [
    "### KNN, SMOTE=1"
   ]
  },
  {
   "cell_type": "code",
   "execution_count": null,
   "metadata": {},
   "outputs": [],
   "source": [
    "knn_model_Guinea = knn_model = KNeighborsClassifier(n_neighbors=80)\n",
    "knn_model_Guinea.fit(X_train_Guinea_smote_1, Y_train_Guinea_smote_1)\n",
    "knn_predict_Guinea = knn_model_Guinea.predict(X_test_Guinea)\n",
    "knn_score_Guinea = knn_model_Guinea.predict_proba(X_test_Guinea)[:,1]\n",
    "knn_auc_Guinea = roc_auc_score(Y_test_Guinea, knn_score_Guinea)\n",
    "print('roc_auc_score for K-nearest Neighbors in Guinean data: ', knn_auc_Guinea)\n",
    "print('Confidence interval for AUC in KNN is: ', roc_auc_ci(Y_test_Guinea, knn_score_Guinea, knn_auc_Guinea))"
   ]
  },
  {
   "cell_type": "code",
   "execution_count": null,
   "metadata": {},
   "outputs": [],
   "source": [
    "# Draw ROC curve\n",
    "fpr, tpr, thresholds = roc_curve(Y_test_Guinea, knn_score_Guinea)\n",
    "roc_auc = auc(fpr, tpr)\n",
    "\n",
    "# Plotting\n",
    "plt.figure(figsize=(8, 6))\n",
    "plt.plot(fpr, tpr, color='darkorange', lw=2, label=f'ROC curve (area = {roc_auc:.2f})')\n",
    "plt.plot([0, 1], [0, 1], color='navy', lw=2, linestyle='--')\n",
    "plt.xlim([0.0, 1.0])\n",
    "plt.ylim([0.0, 1.05])\n",
    "plt.xlabel('False Positive Rate')\n",
    "plt.ylabel('True Positive Rate')\n",
    "plt.title('KNN ROC Curve in Guinea')\n",
    "plt.legend(loc=\"lower right\")\n",
    "\n",
    "# Use seaborn for more beautiful aesthetics\n",
    "sns.set_style(\"whitegrid\")\n",
    "\n",
    "# plt.show()\n",
    "plt.savefig('knn_roc_G.jpg')"
   ]
  },
  {
   "cell_type": "markdown",
   "metadata": {},
   "source": [
    "### Random Forest, SMOTE=0.1"
   ]
  },
  {
   "cell_type": "code",
   "execution_count": null,
   "metadata": {},
   "outputs": [],
   "source": [
    "rf_model_Guinea = RandomForestClassifier(n_estimators=17, max_depth=5, random_state=42)\n",
    "rf_model_Guinea.fit(X_train_Guinea_smote_01, Y_train_Guinea_smote_01)\n",
    "rf_predict_Guinea = rf_model_Guinea.predict(X_test_Guinea)\n",
    "rf_score_Guinea = rf_model_Guinea.predict_proba(X_test_Guinea)[:,1]\n",
    "rf_auc_Guinea = roc_auc_score(Y_test_Guinea, rf_score_Guinea)\n",
    "print('roc_auc_score for Random Forest in Guinean data: ', rf_auc_Guinea)\n",
    "print('Confidence interval for AUC in Random Forest is: ', roc_auc_ci(Y_test_Guinea, rf_score_Guinea, rf_auc_Guinea))"
   ]
  },
  {
   "cell_type": "code",
   "execution_count": null,
   "metadata": {},
   "outputs": [],
   "source": [
    "# Draw ROC curve\n",
    "fpr, tpr, thresholds = roc_curve(Y_test_Guinea, rf_score_Guinea)\n",
    "roc_auc = auc(fpr, tpr)\n",
    "\n",
    "# Plotting\n",
    "plt.figure(figsize=(8, 6))\n",
    "plt.plot(fpr, tpr, color='darkorange', lw=2, label=f'ROC curve (area = {roc_auc:.2f})')\n",
    "plt.plot([0, 1], [0, 1], color='navy', lw=2, linestyle='--')\n",
    "plt.xlim([0.0, 1.0])\n",
    "plt.ylim([0.0, 1.05])\n",
    "plt.xlabel('False Positive Rate')\n",
    "plt.ylabel('True Positive Rate')\n",
    "plt.title('Random Forest ROC Curve in Guinea')\n",
    "plt.legend(loc=\"lower right\")\n",
    "\n",
    "# Use seaborn for more beautiful aesthetics\n",
    "sns.set_style(\"whitegrid\")\n",
    "\n",
    "# plt.show()\n",
    "plt.savefig('rf_roc_G.jpg')"
   ]
  },
  {
   "cell_type": "markdown",
   "metadata": {},
   "source": [
    "### Adaboosting, SMOTE=0"
   ]
  },
  {
   "cell_type": "code",
   "execution_count": null,
   "metadata": {},
   "outputs": [],
   "source": [
    "ada_model_Guinea = AdaBoostClassifier(base_estimator=DecisionTreeClassifier(max_depth=1, random_state=42), learning_rate=0.05, n_estimators=150, random_state=42)\n",
    "ada_model_Guinea.fit(X_train_Guinea, Y_train_Guinea)\n",
    "ada_predict_Guinea = ada_model_Guinea.predict(X_test_Guinea)\n",
    "ada_score_Guinea = ada_model_Guinea.predict_proba(X_test_Guinea)[:,1]\n",
    "ada_auc_Guinea = roc_auc_score(Y_test_Guinea, ada_score_Guinea)\n",
    "print('roc_auc_score for Adaboosting in Guinean data (without resampling): ', ada_auc_Guinea)\n",
    "print('Confidence interval for AUC in Adaboosting is: ', roc_auc_ci(Y_test_Guinea, ada_score_Guinea, ada_auc_Guinea))\n"
   ]
  },
  {
   "cell_type": "code",
   "execution_count": null,
   "metadata": {},
   "outputs": [],
   "source": [
    "# Draw ROC curve\n",
    "fpr, tpr, thresholds = roc_curve(Y_test_Guinea, ada_score_Guinea)\n",
    "roc_auc = auc(fpr, tpr)\n",
    "\n",
    "# Plotting\n",
    "plt.figure(figsize=(8, 6))\n",
    "plt.plot(fpr, tpr, color='darkorange', lw=2, label=f'ROC curve (area = {roc_auc:.2f})')\n",
    "plt.plot([0, 1], [0, 1], color='navy', lw=2, linestyle='--')\n",
    "plt.xlim([0.0, 1.0])\n",
    "plt.ylim([0.0, 1.05])\n",
    "plt.xlabel('False Positive Rate')\n",
    "plt.ylabel('True Positive Rate')\n",
    "plt.title('Adaboosting ROC Curve in Guinea')\n",
    "plt.legend(loc=\"lower right\")\n",
    "\n",
    "# Use seaborn for more beautiful aesthetics\n",
    "sns.set_style(\"whitegrid\")\n",
    "\n",
    "# plt.show()\n",
    "plt.savefig('ada_roc_G.jpg')"
   ]
  },
  {
   "cell_type": "markdown",
   "metadata": {},
   "source": [
    "### Bagging, SMOTE=1"
   ]
  },
  {
   "cell_type": "code",
   "execution_count": null,
   "metadata": {},
   "outputs": [],
   "source": [
    "bag_model_Guinea = BaggingClassifier(base_estimator=DecisionTreeClassifier(max_depth=3, random_state=42), max_features=0.7, max_samples=1.0, n_estimators=100, random_state=42)\n",
    "bag_model_Guinea.fit(X_train_Guinea_smote_1_scaled, Y_train_Guinea_smote_1_scaled)\n",
    "bag_predict_Guinea = bag_model_Guinea.predict(X_test_Guinea_scaled)\n",
    "bag_score_Guinea = bag_model_Guinea.predict_proba(X_test_Guinea_scaled)[:,1]\n",
    "bag_auc_Guinea = roc_auc_score(Y_test_Guinea, bag_score_Guinea)\n",
    "print('roc_auc_score for Bagging in Guinean data: ', bag_auc_Guinea)\n",
    "print('Confidence interval for AUC in Bagging is: ', roc_auc_ci(Y_test_Guinea, bag_score_Guinea, bag_auc_Guinea))\n"
   ]
  },
  {
   "cell_type": "code",
   "execution_count": null,
   "metadata": {},
   "outputs": [],
   "source": [
    "# Draw ROC curve\n",
    "fpr, tpr, thresholds = roc_curve(Y_test_Guinea, bag_score_Guinea)\n",
    "roc_auc = auc(fpr, tpr)\n",
    "\n",
    "# Plotting\n",
    "plt.figure(figsize=(8, 6))\n",
    "plt.plot(fpr, tpr, color='darkorange', lw=2, label=f'ROC curve (area = {roc_auc:.2f})')\n",
    "plt.plot([0, 1], [0, 1], color='navy', lw=2, linestyle='--')\n",
    "plt.xlim([0.0, 1.0])\n",
    "plt.ylim([0.0, 1.05])\n",
    "plt.xlabel('False Positive Rate')\n",
    "plt.ylabel('True Positive Rate')\n",
    "plt.title('Bagging ROC Curve in Guinea')\n",
    "plt.legend(loc=\"lower right\")\n",
    "\n",
    "# Use seaborn for more beautiful aesthetics\n",
    "sns.set_style(\"whitegrid\")\n",
    "\n",
    "# plt.show()\n",
    "plt.savefig('bag_roc_G.jpg')"
   ]
  },
  {
   "cell_type": "markdown",
   "metadata": {},
   "source": [
    "### Gradient Boosting, SMOTE=0.9"
   ]
  },
  {
   "cell_type": "code",
   "execution_count": null,
   "metadata": {},
   "outputs": [],
   "source": [
    "gb_model_Guinea = GradientBoostingClassifier(learning_rate=0.01, max_depth=3, n_estimators=275, random_state=42)\n",
    "gb_model_Guinea.fit(X_train_Guinea_smote_09_scaled, Y_train_Guinea_smote_09_scaled)\n",
    "gb_predict_Guinea = gb_model_Guinea.predict(X_test_Guinea_scaled)\n",
    "gb_score_Guinea = gb_model_Guinea.predict_proba(X_test_Guinea_scaled)[:,1]\n",
    "gb_auc_Guinea = roc_auc_score(Y_test_Guinea, gb_score_Guinea)\n",
    "print('roc_auc_score for Gradient Boosting in Guinean data: ', gb_auc_Guinea)\n",
    "print('Confidence interval for AUC in Gradient Boosting is: ', roc_auc_ci(Y_test_Guinea, gb_score_Guinea, gb_auc_Guinea))"
   ]
  },
  {
   "cell_type": "code",
   "execution_count": null,
   "metadata": {},
   "outputs": [],
   "source": [
    "# Draw ROC curve\n",
    "fpr, tpr, thresholds = roc_curve(Y_test_Guinea, gb_score_Guinea)\n",
    "roc_auc = auc(fpr, tpr)\n",
    "\n",
    "# Plotting\n",
    "plt.figure(figsize=(8, 6))\n",
    "plt.plot(fpr, tpr, color='darkorange', lw=2, label=f'ROC curve (area = {roc_auc:.2f})')\n",
    "plt.plot([0, 1], [0, 1], color='navy', lw=2, linestyle='--')\n",
    "plt.xlim([0.0, 1.0])\n",
    "plt.ylim([0.0, 1.05])\n",
    "plt.xlabel('False Positive Rate')\n",
    "plt.ylabel('True Positive Rate')\n",
    "plt.title('Gradient Boosting ROC Curve in Guinea')\n",
    "plt.legend(loc=\"lower right\")\n",
    "\n",
    "# Use seaborn for more beautiful aesthetics\n",
    "sns.set_style(\"whitegrid\")\n",
    "\n",
    "# plt.show()\n",
    "plt.savefig('gb_roc_G.jpg')"
   ]
  },
  {
   "cell_type": "markdown",
   "metadata": {},
   "source": [
    "## Feature Imbalance Analysis"
   ]
  },
  {
   "cell_type": "markdown",
   "metadata": {},
   "source": [
    "### Ethiopia\n",
    "\n",
    "The best model is Bagging with SMOTE=1"
   ]
  },
  {
   "cell_type": "code",
   "execution_count": null,
   "metadata": {},
   "outputs": [],
   "source": [
    "# Get feature importances\n",
    "feature_importance_Ethiopia = np.mean([tree.feature_importances_ for tree in bag_model_Ethiopia.estimators_], axis=0)\n",
    "feature_name_Ethiopia = [str(Feature_Ethiopia.columns[i]) for i in range(1, len(feature_importance_Ethiopia) + 1)]\n",
    "feature_importance_Ethiopia = pd.Series(feature_importance_Ethiopia, index=feature_name_Ethiopia)\n",
    "\n",
    "# Sort features by their importance\n",
    "feature_importance_Ethiopia = feature_importance_Ethiopia.sort_values(ascending=False)\n",
    "print(feature_importance_Ethiopia.head(10))"
   ]
  },
  {
   "cell_type": "markdown",
   "metadata": {},
   "source": [
    "### Guinea\n",
    "\n",
    "The best model is Random Forest with SMOTE=0.1"
   ]
  },
  {
   "cell_type": "code",
   "execution_count": null,
   "metadata": {},
   "outputs": [],
   "source": [
    "# Get feature importances\n",
    "feature_importance_Guinea = rf_model_Guinea.feature_importances_\n",
    "feature_importance_Guinea = pd.Series(feature_importance_Guinea, index=Feature_Guinea.columns)\n",
    "\n",
    "# Sort features by their importance\n",
    "feature_importance_Guinea = feature_importance_Guinea.sort_values(ascending=False)\n",
    "print(feature_importance_Guinea.head(10))"
   ]
  },
  {
   "cell_type": "code",
   "execution_count": null,
   "metadata": {},
   "outputs": [],
   "source": []
  }
 ],
 "metadata": {
  "anaconda-cloud": {},
  "kernelspec": {
   "display_name": "Python 3 (ipykernel)",
   "language": "python",
   "name": "python3"
  },
  "language_info": {
   "codemirror_mode": {
    "name": "ipython",
    "version": 3
   },
   "file_extension": ".py",
   "mimetype": "text/x-python",
   "name": "python",
   "nbconvert_exporter": "python",
   "pygments_lexer": "ipython3",
   "version": "3.10.8"
  }
 },
 "nbformat": 4,
 "nbformat_minor": 1
}
